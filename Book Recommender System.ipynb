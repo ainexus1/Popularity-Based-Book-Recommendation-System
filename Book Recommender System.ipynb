{
 "cells": [
  {
   "cell_type": "code",
   "execution_count": null,
   "id": "25b59902-d0a3-499a-9fe7-fe07b15053c6",
   "metadata": {},
   "outputs": [],
   "source": [
    "import numpy as np\n",
    "import pandas as pd"
   ]
  },
  {
   "cell_type": "code",
   "execution_count": null,
   "id": "7e2aa415-c381-4b28-85b6-b3e1de420f35",
   "metadata": {},
   "outputs": [],
   "source": [
    "books = pd.read_csv(\"C:\\\\Users\\\\USER\\\\Downloads\\\\archive\\\\Books.csv\")\n",
    "users = pd.read_csv(\"C:\\\\Users\\\\USER\\\\Downloads\\\\archive\\\\Users.csv\")\n",
    "ratings = pd.read_csv(\"C:\\\\Users\\\\USER\\\\Downloads\\\\archive\\\\Ratings.csv\")"
   ]
  },
  {
   "cell_type": "code",
   "execution_count": null,
   "id": "daeec8e2-bc35-4cd0-b5fa-9cfa26895348",
   "metadata": {},
   "outputs": [],
   "source": [
    "books.head(10)"
   ]
  },
  {
   "cell_type": "code",
   "execution_count": null,
   "id": "be184b18-74aa-4dfd-8a23-ae29904ec8f8",
   "metadata": {},
   "outputs": [],
   "source": [
    "users.head(10)"
   ]
  },
  {
   "cell_type": "code",
   "execution_count": null,
   "id": "86f64a30-33f1-47f8-b636-b10a16d77623",
   "metadata": {},
   "outputs": [],
   "source": [
    "ratings.head(10)"
   ]
  },
  {
   "cell_type": "code",
   "execution_count": null,
   "id": "413a0da2-bc4c-4204-a04e-fa21e086a9c5",
   "metadata": {},
   "outputs": [],
   "source": [
    "print(books.shape)\n",
    "print(ratings.shape)\n",
    "print(users.shape)"
   ]
  },
  {
   "cell_type": "code",
   "execution_count": null,
   "id": "313c10bc-a4ee-43c9-ae67-50f2c53608f6",
   "metadata": {},
   "outputs": [],
   "source": [
    "books.isnull().sum()"
   ]
  },
  {
   "cell_type": "code",
   "execution_count": null,
   "id": "feaadf6b-e748-44ae-b497-cbaea0937a40",
   "metadata": {},
   "outputs": [],
   "source": [
    "users.isnull().sum()"
   ]
  },
  {
   "cell_type": "code",
   "execution_count": null,
   "id": "a1814926-8039-4fbc-b148-db33a0d81488",
   "metadata": {},
   "outputs": [],
   "source": [
    "ratings.isnull().sum()"
   ]
  },
  {
   "cell_type": "code",
   "execution_count": null,
   "id": "9d66600a-bfcb-4383-9302-e87281baeaa7",
   "metadata": {},
   "outputs": [],
   "source": [
    "books.duplicated().sum()"
   ]
  },
  {
   "cell_type": "code",
   "execution_count": null,
   "id": "b9574ce0-d997-4ea8-8b28-d35a99a25e85",
   "metadata": {},
   "outputs": [],
   "source": [
    "ratings.duplicated().sum()"
   ]
  },
  {
   "cell_type": "code",
   "execution_count": null,
   "id": "569edda3-a490-4cd7-9499-9d46f789af37",
   "metadata": {},
   "outputs": [],
   "source": [
    "users.duplicated().sum()"
   ]
  },
  {
   "cell_type": "code",
   "execution_count": null,
   "id": "9cf9f5bd-f897-4a9f-8f0b-bd3d62055b19",
   "metadata": {},
   "outputs": [],
   "source": [
    "#popularity based recommendation system\n",
    "ratings_with_name = ratings.merge(books,on='ISBN')"
   ]
  },
  {
   "cell_type": "code",
   "execution_count": null,
   "id": "07d8c9f8-29c9-4c2c-8ad9-ea46670973ad",
   "metadata": {},
   "outputs": [],
   "source": [
    "num_rating_df = ratings_with_name.groupby('Book-Title').count()['Book-Rating'].reset_index()\n",
    "num_rating_df.rename(columns={'Book-Rating':'num-ratings'},inplace=True)\n",
    "num_rating_df"
   ]
  },
  {
   "cell_type": "code",
   "execution_count": null,
   "id": "281c0af2-341b-404e-9ee9-6eef2010f153",
   "metadata": {},
   "outputs": [],
   "source": [
    "import pandas as pd\n",
    "ratings_with_name['Book-Rating'] = pd.to_numeric(ratings_with_name['Book-Rating'], errors='coerce')\n",
    "avg_rating_df = ratings_with_name.groupby('Book-Title')['Book-Rating'].mean().reset_index()\n",
    "avg_rating_df.rename(columns={'Book-Rating': 'avg_ratings'}, inplace=True)\n",
    "\n",
    "print(avg_rating_df)"
   ]
  },
  {
   "cell_type": "code",
   "execution_count": null,
   "id": "75fbcfc8-860d-4352-98e9-7ead86d2111f",
   "metadata": {},
   "outputs": [],
   "source": [
    "popular_df = num_rating_df.merge(avg_rating_df, on='Book-Title')\n",
    "popular_df"
   ]
  },
  {
   "cell_type": "code",
   "execution_count": null,
   "id": "df87ff2c-0923-49c2-ab24-1a1d7b3088b6",
   "metadata": {},
   "outputs": [],
   "source": [
    "popular_df = popular_df[popular_df['num-ratings']>=250].sort_values('avg_ratings', ascending=False).head(10)"
   ]
  },
  {
   "cell_type": "code",
   "execution_count": null,
   "id": "431227b4-e277-42bd-b951-d6f683e6bc6e",
   "metadata": {},
   "outputs": [],
   "source": [
    "popular_df = popular_df.merge(books, on='Book-Title').drop_duplicates('Book-Title')[['Book-Title', 'Book-Author', 'Image-URL-M', 'num-ratings', 'avg_ratings']]"
   ]
  }
 ],
 "metadata": {
  "kernelspec": {
   "display_name": "Python 3 (ipykernel)",
   "language": "python",
   "name": "python3"
  },
  "language_info": {
   "codemirror_mode": {
    "name": "ipython",
    "version": 3
   },
   "file_extension": ".py",
   "mimetype": "text/x-python",
   "name": "python",
   "nbconvert_exporter": "python",
   "pygments_lexer": "ipython3",
   "version": "3.11.5"
  }
 },
 "nbformat": 4,
 "nbformat_minor": 5
}
